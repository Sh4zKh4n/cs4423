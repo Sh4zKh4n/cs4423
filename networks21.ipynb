{
 "cells": [
  {
   "cell_type": "markdown",
   "metadata": {},
   "source": [
    "### CS4423 - Networks\n",
    "Prof. Götz Pfeiffer<br />\n",
    "School of Mathematics, Statistics and Applied Mathematics<br />\n",
    "NUI Galway"
   ]
  },
  {
   "cell_type": "markdown",
   "metadata": {},
   "source": [
    "#### 6. Power Laws and Scale-Free Graphs\n",
    "\n",
    "# Lecture 21:  Power Laws"
   ]
  },
  {
   "cell_type": "markdown",
   "metadata": {},
   "source": [
    "Random graphs have degree distributions that the the form of a binomial distribution, \n",
    "or, as the number of nodes increases, by a Poisson distribution.  Here,\n",
    "most nodes in the graph have a degree that is equal or close to the average node degree of \n",
    "the graph. The probability that a node has a degree that is much higher than the average degree\n",
    "is so small that it can be neglected.\n",
    "\n",
    "In real world networks, such as the WWW, the neural network that ithe brain of C. Elegans,\n",
    "citation networks, protein interaction networks and many more, it has been obserevd that there\n",
    "are nodes of extremely high degree, compared to the average degree.  Their number is small, but\n",
    "not negligible.  The degree distibution of such a network is better described by a **power law**."
   ]
  },
  {
   "cell_type": "code",
   "execution_count": 1,
   "metadata": {},
   "outputs": [],
   "source": [
    "import numpy as np\n",
    "import pandas as pd\n",
    "import matplotlib.pyplot as plt\n",
    "import networkx as nx"
   ]
  },
  {
   "cell_type": "markdown",
   "metadata": {},
   "source": [
    "## Degree Distribution"
   ]
  },
  {
   "cell_type": "markdown",
   "metadata": {},
   "source": [
    "Recall the **degree distribution** of a random graph:\n",
    "\n",
    "The **degree distribution** of an undirected graph $G = (X, E)$\n",
    "is the function $k \\mapsto p_k:= n_k/n$,\n",
    "where $n = |X|$ and $n_k$ is the number of nodes of degree $k$\n",
    "(and thus $p_k$ is the probability that a random node $x \\in X$\n",
    "has degree $k$).\n",
    "\n",
    "In an ensemble of graphs of order $n$, one sets $p_k:= \\overline{n_k}/n$,\n",
    "where $\\overline{n_k}$ is the expected value of the random variable $n_k$\n",
    "over the ensemble of graphs.\n",
    "\n",
    "In this sense, the degree distribution in a random $G(n, p)$ graph is **binomial** :\n",
    "$$\n",
    "p_k = \\binom{n-1}{k}p^k (1-p)^{n-1-k},\n",
    "$$\n",
    "or, in the limit $n \\to \\infty$ and $p \\to 0$ with $np$ constant, it is a **Poisson distribution**:\n",
    "$$\n",
    "p_k = e^{-z} \\frac{z^k}{k!},\n",
    "$$\n",
    "where $z = np$."
   ]
  },
  {
   "cell_type": "markdown",
   "metadata": {},
   "source": [
    "A power law degree distribution is strikingly different:\n",
    "\n",
    "<div class=\"alert alert-warning\">\n",
    "    \n",
    "A **power law** degree distribution has the form\n",
    "$$\n",
    "    p_k = c k^{-\\gamma},\n",
    "$$\n",
    "for certain constants $c$ and $\\gamma$.  (Typically $2 \\leq \\gamma \\leq 3$.)\n",
    "</div>"
   ]
  },
  {
   "cell_type": "markdown",
   "metadata": {},
   "source": [
    "Of course, the constant $c$ needs to be chosen so that $\\sum_k p_k = 1$.  For simplicity, let's assume that\n",
    "$p_0 = 0$, i.e., that every node is connected to at least one other node, no node forms a disconnected singleton component.\n",
    "\n",
    "Then, since $\\sum_{k=1}^{\\infty} k^{-\\gamma} = \\zeta(\\gamma)$, where $\\zeta$ is the infamous\n",
    "[Riemann zeta function](https://en.wikipedia.org/wiki/Riemann_zeta_function), we get\n",
    "$c = \\zeta(\\gamma)^{-1}$ and\n",
    "$$\n",
    "p_k = \\frac{k^{-\\gamma}}{\\zeta(\\gamma)}.\n",
    "$$"
   ]
  },
  {
   "cell_type": "markdown",
   "metadata": {},
   "source": [
    "The `scipy` package has a `zeta` function that can be used for plotting a graph over the domain of interest."
   ]
  },
  {
   "cell_type": "code",
   "execution_count": 2,
   "metadata": {},
   "outputs": [],
   "source": [
    "from scipy.special import zeta"
   ]
  },
  {
   "cell_type": "code",
   "execution_count": 3,
   "metadata": {
    "scrolled": true
   },
   "outputs": [
    {
     "data": {
      "text/plain": [
       "[<matplotlib.lines.Line2D at 0x7ff09e2b8210>]"
      ]
     },
     "execution_count": 3,
     "metadata": {},
     "output_type": "execute_result"
    },
    {
     "data": {
      "image/png": "[encoded data removed]",
      "text/plain": [
       "<Figure size 432x288 with 1 Axes>"
      ]
     },
     "metadata": {
      "needs_background": "light"
     },
     "output_type": "display_data"
    }
   ],
   "source": [
    "x = np.linspace(1.5, 4.1, 200)\n",
    "plt.plot(x, zeta(x))"
   ]
  },
  {
   "cell_type": "markdown",
   "metadata": {},
   "source": [
    "As a function of the real numbers, $\\zeta(s)$ only converges for $s > 1$.\n",
    "Specific values include\n",
    "*  $\\zeta(2) = \\pi^2/6 \\approx 1.6449$,\n",
    "* $\\zeta(4) = \\pi^4/90 \\approx 1.0823$.\n",
    "\n",
    "In the limit, $\\zeta(s) \\to 1$ as $s \\to \\infty$."
   ]
  },
  {
   "cell_type": "markdown",
   "metadata": {},
   "source": [
    "Let's plot a binomial/Poisson distribution again some power law degree distribution."
   ]
  },
  {
   "cell_type": "code",
   "execution_count": 4,
   "metadata": {},
   "outputs": [],
   "source": [
    "def binomial(n, k):\n",
    "    prd, top, bot = 1, n, 1\n",
    "    for i in range(k):\n",
    "        prd = (prd * top) // bot\n",
    "        top, bot = top - 1, bot + 1\n",
    "    return prd"
   ]
  },
  {
   "cell_type": "code",
   "execution_count": 5,
   "metadata": {},
   "outputs": [],
   "source": [
    "def b_dist(n, p, k):\n",
    "    return binomial(n, k) * p**k * (1-p)**(n-k)"
   ]
  },
  {
   "cell_type": "code",
   "execution_count": 6,
   "metadata": {},
   "outputs": [],
   "source": [
    "from math import exp, factorial\n",
    "def p_dist(l, k):\n",
    "    return exp(-l) * l**k / factorial(k)"
   ]
  },
  {
   "cell_type": "markdown",
   "metadata": {},
   "source": [
    "The specific values of $n = 1000$ and $p = 0.015$ correspond to a random graph with\n",
    "$n = 1000$ nodes and $m = 7493$ edges.  Here, the average degree is $2m/n \\approx 15$."
   ]
  },
  {
   "cell_type": "code",
   "execution_count": 7,
   "metadata": {},
   "outputs": [],
   "source": [
    "n, p = 1000, 0.015\n",
    "domain = range(3, 53)\n",
    "l = p * (n-1)\n",
    "bb = [b_dist(n-1, p, k) for k in domain]\n",
    "pp = [p_dist(l, k) for k in domain]"
   ]
  },
  {
   "cell_type": "markdown",
   "metadata": {},
   "source": [
    "We already know that the binomial distribution and the Poisson distribution with these\n",
    "parameters are almpst identical"
   ]
  },
  {
   "cell_type": "code",
   "execution_count": 8,
   "metadata": {},
   "outputs": [
    {
     "data": {
      "text/plain": [
       "<matplotlib.axes._subplots.AxesSubplot at 0x7ff09e1fb450>"
      ]
     },
     "execution_count": 8,
     "metadata": {},
     "output_type": "execute_result"
    },
    {
     "data": {
      "image/png": "[encoded data removed]",
      "text/plain": [
       "<Figure size 432x288 with 1 Axes>"
      ]
     },
     "metadata": {
      "needs_background": "light"
     },
     "output_type": "display_data"
    }
   ],
   "source": [
    "df = pd.DataFrame(index=domain)\n",
    "df['binom'] = bb\n",
    "df['poisson'] = pp\n",
    "df.plot()"
   ]
  },
  {
   "cell_type": "code",
   "execution_count": 9,
   "metadata": {},
   "outputs": [],
   "source": [
    "def power_dist(c, gamma, k):\n",
    "    return c * k**(-gamma)"
   ]
  },
  {
   "cell_type": "code",
   "execution_count": 10,
   "metadata": {},
   "outputs": [],
   "source": [
    "c = 0.15\n",
    "po1 = [power_dist(zeta(1.5), 1.5, k) for k in domain]\n",
    "po2 = [power_dist(zeta(2), 2, k) for k in domain]\n",
    "po3 = [power_dist(zeta(3), 3, k) for k in domain]"
   ]
  },
  {
   "cell_type": "code",
   "execution_count": 11,
   "metadata": {},
   "outputs": [
    {
     "data": {
      "text/plain": [
       "<matplotlib.axes._subplots.AxesSubplot at 0x7ff09e1686d0>"
      ]
     },
     "execution_count": 11,
     "metadata": {},
     "output_type": "execute_result"
    },
    {
     "data": {
      "image/png": "[encoded data removed]",
      "text/plain": [
       "<Figure size 432x288 with 1 Axes>"
      ]
     },
     "metadata": {
      "needs_background": "light"
     },
     "output_type": "display_data"
    }
   ],
   "source": [
    "df['power1'] = po1\n",
    "df['power2'] = po2\n",
    "df['power3'] = po3\n",
    "df.plot()"
   ]
  },
  {
   "cell_type": "markdown",
   "metadata": {},
   "source": [
    "The difference between the two types of distributions become even more apparent in a [log-log plot](https://en.wikipedia.org/wiki/Log%E2%80%93log_plot)."
   ]
  },
  {
   "cell_type": "code",
   "execution_count": 12,
   "metadata": {},
   "outputs": [
    {
     "data": {
      "text/plain": [
       "<matplotlib.axes._subplots.AxesSubplot at 0x7ff09e0a4790>"
      ]
     },
     "execution_count": 12,
     "metadata": {},
     "output_type": "execute_result"
    },
    {
     "data": {
      "image/png": "[encoded data removed]",
      "text/plain": [
       "<Figure size 432x288 with 1 Axes>"
      ]
     },
     "metadata": {
      "needs_background": "light"
     },
     "output_type": "display_data"
    }
   ],
   "source": [
    "df.plot(loglog=True)"
   ]
  },
  {
   "cell_type": "markdown",
   "metadata": {},
   "source": [
    "Note how the power laws appear as **straight lines** in this plot.  Why?"
   ]
  },
  {
   "cell_type": "markdown",
   "metadata": {},
   "source": [
    "## The Brain of Worm"
   ]
  },
  {
   "cell_type": "markdown",
   "metadata": {},
   "source": [
    "Let `G` be the neural network that is the brain of C.Elegans."
   ]
  },
  {
   "cell_type": "code",
   "execution_count": 13,
   "metadata": {},
   "outputs": [],
   "source": [
    "G = nx.read_pajek(\"data/c_elegans_undir.net\")\n",
    "G = nx.Graph(G)"
   ]
  },
  {
   "cell_type": "code",
   "execution_count": 14,
   "metadata": {},
   "outputs": [
    {
     "data": {
      "text/plain": [
       "(279, 2287)"
      ]
     },
     "execution_count": 14,
     "metadata": {},
     "output_type": "execute_result"
    }
   ],
   "source": [
    "n, m = G.number_of_nodes(), G.number_of_edges()\n",
    "n, m"
   ]
  },
  {
   "cell_type": "markdown",
   "metadata": {},
   "source": [
    "Let `R` be a random graph of the same degree $n$ and size $m$.  Both `G` and `R`\n",
    "have average nide degree $16.4$."
   ]
  },
  {
   "cell_type": "code",
   "execution_count": 15,
   "metadata": {},
   "outputs": [],
   "source": [
    "R = nx.gnm_random_graph(n, m)"
   ]
  },
  {
   "cell_type": "markdown",
   "metadata": {},
   "source": [
    "`R` has a binomial/Poisson degree distribution."
   ]
  },
  {
   "cell_type": "code",
   "execution_count": 16,
   "metadata": {},
   "outputs": [
    {
     "data": {
      "text/plain": [
       "<matplotlib.axes._subplots.AxesSubplot at 0x7ff09dfa6e10>"
      ]
     },
     "execution_count": 16,
     "metadata": {},
     "output_type": "execute_result"
    },
    {
     "data": {
      "image/png": "[encoded data removed]",
      "text/plain": [
       "<Figure size 432x288 with 1 Axes>"
      ]
     },
     "metadata": {
      "needs_background": "light"
     },
     "output_type": "display_data"
    }
   ],
   "source": [
    "pd.DataFrame(nx.degree_histogram(R)).plot.bar()"
   ]
  },
  {
   "cell_type": "markdown",
   "metadata": {},
   "source": [
    "Whereas `R` hasn't.  There definitely are some nodes of extremely high degree."
   ]
  },
  {
   "cell_type": "code",
   "execution_count": 17,
   "metadata": {},
   "outputs": [
    {
     "data": {
      "text/plain": [
       "<matplotlib.axes._subplots.AxesSubplot at 0x7ff09dd11f10>"
      ]
     },
     "execution_count": 17,
     "metadata": {},
     "output_type": "execute_result"
    },
    {
     "data": {
      "image/png": "[encoded data removed]",
      "text/plain": [
       "<Figure size 432x288 with 1 Axes>"
      ]
     },
     "metadata": {
      "needs_background": "light"
     },
     "output_type": "display_data"
    }
   ],
   "source": [
    "pd.DataFrame(nx.degree_histogram(G)).plot.bar()"
   ]
  },
  {
   "cell_type": "markdown",
   "metadata": {},
   "source": [
    "A $(n, d, p)$-Watts-Strogatz graph has $n$ nodes and  $dn$ edges.  Let `W` be a Watts-Strogatz graph\n",
    "with about the same number of nodes and edges."
   ]
  },
  {
   "cell_type": "code",
   "execution_count": 18,
   "metadata": {},
   "outputs": [],
   "source": [
    "d = m//n\n",
    "p = 0.2\n",
    "W = nx.watts_strogatz_graph(n, 2*d, p)"
   ]
  },
  {
   "cell_type": "code",
   "execution_count": 19,
   "metadata": {},
   "outputs": [
    {
     "data": {
      "text/plain": [
       "(279, 2232)"
      ]
     },
     "execution_count": 19,
     "metadata": {},
     "output_type": "execute_result"
    }
   ],
   "source": [
    "W.number_of_nodes(), W.number_of_edges()"
   ]
  },
  {
   "cell_type": "code",
   "execution_count": 20,
   "metadata": {},
   "outputs": [
    {
     "data": {
      "text/plain": [
       "<matplotlib.axes._subplots.AxesSubplot at 0x7ff09dac5f90>"
      ]
     },
     "execution_count": 20,
     "metadata": {},
     "output_type": "execute_result"
    },
    {
     "data": {
      "image/png": "[encoded data removed]",
      "text/plain": [
       "<Figure size 432x288 with 1 Axes>"
      ]
     },
     "metadata": {
      "needs_background": "light"
     },
     "output_type": "display_data"
    }
   ],
   "source": [
    "hist = nx.degree_histogram(W)\n",
    "hist = [(i, hist[i]) for i in range(len(hist)) if hist[i] > 0]\n",
    "df = pd.DataFrame(hist)\n",
    "df.plot.scatter(x = 0, y = 1)"
   ]
  },
  {
   "cell_type": "markdown",
   "metadata": {},
   "source": [
    "It doesn't look like the degree distribution of `W` follows a power law ..."
   ]
  },
  {
   "cell_type": "markdown",
   "metadata": {},
   "source": [
    "Does the degree histogram of the worm brain network\n",
    "follow a power law degree distribution?\n",
    "Here is a standard plot and a loglog plot of it ..."
   ]
  },
  {
   "cell_type": "code",
   "execution_count": 21,
   "metadata": {},
   "outputs": [
    {
     "data": {
      "text/plain": [
       "<matplotlib.axes._subplots.AxesSubplot at 0x7ff09d96c990>"
      ]
     },
     "execution_count": 21,
     "metadata": {},
     "output_type": "execute_result"
    },
    {
     "data": {
      "image/png": "[encoded data removed]",
      "text/plain": [
       "<Figure size 432x288 with 1 Axes>"
      ]
     },
     "metadata": {
      "needs_background": "light"
     },
     "output_type": "display_data"
    }
   ],
   "source": [
    "hist = nx.degree_histogram(G)\n",
    "hist = [(i, hist[i]) for i in range(len(hist)) if hist[i] > 0]\n",
    "df = pd.DataFrame(hist)\n",
    "df.plot.scatter(x = 0, y = 1)"
   ]
  },
  {
   "cell_type": "code",
   "execution_count": 22,
   "metadata": {},
   "outputs": [
    {
     "data": {
      "text/plain": [
       "<matplotlib.axes._subplots.AxesSubplot at 0x7ff09d8f20d0>"
      ]
     },
     "execution_count": 22,
     "metadata": {},
     "output_type": "execute_result"
    },
    {
     "data": {
      "image/png": "[encoded data removed]",
      "text/plain": [
       "<Figure size 432x288 with 1 Axes>"
      ]
     },
     "metadata": {
      "needs_background": "light"
     },
     "output_type": "display_data"
    }
   ],
   "source": [
    "df.plot.scatter(x = 0, y = 1, loglog=True)"
   ]
  },
  {
   "cell_type": "markdown",
   "metadata": {},
   "source": [
    "Identifying a power-law behaviour, in particular extracting the exponent $\\gamma$ can be very tricky.\n",
    "It somehow requires fitting a straight line into the loglog plot of the degree distribution,\n",
    "paying special attention to the large values of $k$ ..."
   ]
  },
  {
   "cell_type": "markdown",
   "metadata": {},
   "source": [
    "## Code Corner"
   ]
  },
  {
   "cell_type": "markdown",
   "metadata": {},
   "source": [
    "### `matplotlib`"
   ]
  },
  {
   "cell_type": "markdown",
   "metadata": {},
   "source": [
    "* `pyplot.plot`: [[tutorial]](https://matplotlib.org/tutorials/introductory/pyplot.html)"
   ]
  },
  {
   "cell_type": "markdown",
   "metadata": {},
   "source": [
    "### `scipy`"
   ]
  },
  {
   "cell_type": "markdown",
   "metadata": {},
   "source": [
    "* `special.zeta`: [[doc]](https://docs.scipy.org/doc/scipy/reference/generated/scipy.special.zeta.html)"
   ]
  },
  {
   "cell_type": "markdown",
   "metadata": {},
   "source": [
    "## Exercises"
   ]
  },
  {
   "cell_type": "markdown",
   "metadata": {},
   "source": [
    "1. Try and plot a straight line into the loglog plot of the degree distribution of the\n",
    "worm brain network, in such a way that it illustrates the underlying power law.\n",
    "\n",
    "1. More about Power Law degree distributions can be found in Chapter 5 of the book.\n",
    "Read through that chapter."
   ]
  },
  {
   "cell_type": "code",
   "execution_count": null,
   "metadata": {},
   "outputs": [],
   "source": []
  }
 ],
 "metadata": {
  "kernelspec": {
   "display_name": "Python 3",
   "language": "python",
   "name": "python3"
  },
  "language_info": {
   "codemirror_mode": {
    "name": "ipython",
    "version": 3
   },
   "file_extension": ".py",
   "mimetype": "text/x-python",
   "name": "python",
   "nbconvert_exporter": "python",
   "pygments_lexer": "ipython3",
   "version": "3.7.6"
  }
 },
 "nbformat": 4,
 "nbformat_minor": 2
}
